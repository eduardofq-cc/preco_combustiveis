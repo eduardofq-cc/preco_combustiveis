{
 "cells": [
  {
   "cell_type": "markdown",
   "metadata": {},
   "source": [
    "# Visão geral do notebook\n",
    "Exploração dos dados em 'dados/precos_semestrais_automotivos_2024_02.csv', mostrando informações iniciais como quantidade de linhas e colunas, tipos de colunas, tipos de produtos, etc."
   ]
  },
  {
   "cell_type": "markdown",
   "metadata": {},
   "source": [
    "# Bibliotecas Utilizadas\n",
    "- pandas (https://pandas.pydata.org/docs/): para análise dos dados."
   ]
  },
  {
   "cell_type": "code",
   "execution_count": 3,
   "metadata": {},
   "outputs": [],
   "source": [
    "import pandas as pd"
   ]
  },
  {
   "cell_type": "markdown",
   "metadata": {},
   "source": [
    "# Importação dos dados"
   ]
  },
  {
   "cell_type": "code",
   "execution_count": 5,
   "metadata": {},
   "outputs": [],
   "source": [
    "dados = pd.read_csv('dados/precos_semestrais_automotivos_2024_02.csv', sep = ';')"
   ]
  },
  {
   "cell_type": "markdown",
   "metadata": {},
   "source": [
    "# Exploração"
   ]
  },
  {
   "cell_type": "markdown",
   "metadata": {},
   "source": [
    "**Informações gerais do dataframe:**"
   ]
  },
  {
   "cell_type": "code",
   "execution_count": 19,
   "metadata": {},
   "outputs": [
    {
     "name": "stdout",
     "output_type": "stream",
     "text": [
      "<class 'pandas.core.frame.DataFrame'>\n",
      "RangeIndex: 421382 entries, 0 to 421381\n",
      "Data columns (total 16 columns):\n",
      " #   Column             Non-Null Count   Dtype  \n",
      "---  ------             --------------   -----  \n",
      " 0   Regiao - Sigla     421382 non-null  object \n",
      " 1   Estado - Sigla     421382 non-null  object \n",
      " 2   Municipio          421382 non-null  object \n",
      " 3   Revenda            421382 non-null  object \n",
      " 4   CNPJ da Revenda    421382 non-null  object \n",
      " 5   Nome da Rua        421382 non-null  object \n",
      " 6   Numero Rua         421282 non-null  object \n",
      " 7   Complemento        94698 non-null   object \n",
      " 8   Bairro             420809 non-null  object \n",
      " 9   Cep                421382 non-null  object \n",
      " 10  Produto            421382 non-null  object \n",
      " 11  Data da Coleta     421382 non-null  object \n",
      " 12  Valor de Venda     421382 non-null  object \n",
      " 13  Valor de Compra    0 non-null       float64\n",
      " 14  Unidade de Medida  421382 non-null  object \n",
      " 15  Bandeira           421382 non-null  object \n",
      "dtypes: float64(1), object(15)\n",
      "memory usage: 51.4+ MB\n"
     ]
    }
   ],
   "source": [
    "dados.info()"
   ]
  },
  {
   "cell_type": "markdown",
   "metadata": {},
   "source": [
    "Algumas observações:\n",
    "- Na coluna de índice 13, 'Valor de Compra', não há informações. A contagem de não-nulos é zero, portanto todas as linhas são nulas. É a única coluna com tipo numérico 'float'.\n",
    "- Todas as colunas, com excessão da 'Valor de Compra', estão como string, identificadas pelo Dtype 'object'.\n",
    "  - As colunas que deveriam ser numéricas são 'Cep' e 'Valor de Venda'.\n",
    "  - A coluna que deveria estar no formato de data é 'Data da Coleta'."
   ]
  },
  {
   "cell_type": "markdown",
   "metadata": {},
   "source": [
    "**Primeiras 5 linhas do dataframe:**"
   ]
  },
  {
   "cell_type": "code",
   "execution_count": 8,
   "metadata": {},
   "outputs": [
    {
     "data": {
      "text/html": [
       "<div>\n",
       "<style scoped>\n",
       "    .dataframe tbody tr th:only-of-type {\n",
       "        vertical-align: middle;\n",
       "    }\n",
       "\n",
       "    .dataframe tbody tr th {\n",
       "        vertical-align: top;\n",
       "    }\n",
       "\n",
       "    .dataframe thead th {\n",
       "        text-align: right;\n",
       "    }\n",
       "</style>\n",
       "<table border=\"1\" class=\"dataframe\">\n",
       "  <thead>\n",
       "    <tr style=\"text-align: right;\">\n",
       "      <th></th>\n",
       "      <th>Regiao - Sigla</th>\n",
       "      <th>Estado - Sigla</th>\n",
       "      <th>Municipio</th>\n",
       "      <th>Revenda</th>\n",
       "      <th>CNPJ da Revenda</th>\n",
       "      <th>Nome da Rua</th>\n",
       "      <th>Numero Rua</th>\n",
       "      <th>Complemento</th>\n",
       "      <th>Bairro</th>\n",
       "      <th>Cep</th>\n",
       "      <th>Produto</th>\n",
       "      <th>Data da Coleta</th>\n",
       "      <th>Valor de Venda</th>\n",
       "      <th>Valor de Compra</th>\n",
       "      <th>Unidade de Medida</th>\n",
       "      <th>Bandeira</th>\n",
       "    </tr>\n",
       "  </thead>\n",
       "  <tbody>\n",
       "    <tr>\n",
       "      <th>0</th>\n",
       "      <td>N</td>\n",
       "      <td>AC</td>\n",
       "      <td>RIO BRANCO</td>\n",
       "      <td>CODEPE COMBUSTIVEIS LTDA</td>\n",
       "      <td>08.220.930/0001-62</td>\n",
       "      <td>RODOVIA BR-364 (RIO BRANCO-CRUZEIRO DO SUL) - ...</td>\n",
       "      <td>2755</td>\n",
       "      <td>LOTE  01/02/03/04/05 E 33</td>\n",
       "      <td>PORTAL DA AMAZONIA</td>\n",
       "      <td>69915-630</td>\n",
       "      <td>GASOLINA</td>\n",
       "      <td>01/07/2024</td>\n",
       "      <td>6,79</td>\n",
       "      <td>NaN</td>\n",
       "      <td>R$ / litro</td>\n",
       "      <td>VIBRA</td>\n",
       "    </tr>\n",
       "    <tr>\n",
       "      <th>1</th>\n",
       "      <td>N</td>\n",
       "      <td>AC</td>\n",
       "      <td>RIO BRANCO</td>\n",
       "      <td>CODEPE COMBUSTIVEIS LTDA</td>\n",
       "      <td>08.220.930/0001-62</td>\n",
       "      <td>RODOVIA BR-364 (RIO BRANCO-CRUZEIRO DO SUL) - ...</td>\n",
       "      <td>2755</td>\n",
       "      <td>LOTE  01/02/03/04/05 E 33</td>\n",
       "      <td>PORTAL DA AMAZONIA</td>\n",
       "      <td>69915-630</td>\n",
       "      <td>GASOLINA ADITIVADA</td>\n",
       "      <td>01/07/2024</td>\n",
       "      <td>6,84</td>\n",
       "      <td>NaN</td>\n",
       "      <td>R$ / litro</td>\n",
       "      <td>VIBRA</td>\n",
       "    </tr>\n",
       "    <tr>\n",
       "      <th>2</th>\n",
       "      <td>N</td>\n",
       "      <td>AC</td>\n",
       "      <td>RIO BRANCO</td>\n",
       "      <td>CODEPE COMBUSTIVEIS LTDA</td>\n",
       "      <td>08.220.930/0001-62</td>\n",
       "      <td>RODOVIA BR-364 (RIO BRANCO-CRUZEIRO DO SUL) - ...</td>\n",
       "      <td>2755</td>\n",
       "      <td>LOTE  01/02/03/04/05 E 33</td>\n",
       "      <td>PORTAL DA AMAZONIA</td>\n",
       "      <td>69915-630</td>\n",
       "      <td>DIESEL</td>\n",
       "      <td>01/07/2024</td>\n",
       "      <td>6,99</td>\n",
       "      <td>NaN</td>\n",
       "      <td>R$ / litro</td>\n",
       "      <td>VIBRA</td>\n",
       "    </tr>\n",
       "    <tr>\n",
       "      <th>3</th>\n",
       "      <td>N</td>\n",
       "      <td>AC</td>\n",
       "      <td>RIO BRANCO</td>\n",
       "      <td>CODEPE COMBUSTIVEIS LTDA</td>\n",
       "      <td>08.220.930/0001-62</td>\n",
       "      <td>RODOVIA BR-364 (RIO BRANCO-CRUZEIRO DO SUL) - ...</td>\n",
       "      <td>2755</td>\n",
       "      <td>LOTE  01/02/03/04/05 E 33</td>\n",
       "      <td>PORTAL DA AMAZONIA</td>\n",
       "      <td>69915-630</td>\n",
       "      <td>DIESEL S10</td>\n",
       "      <td>01/07/2024</td>\n",
       "      <td>6,99</td>\n",
       "      <td>NaN</td>\n",
       "      <td>R$ / litro</td>\n",
       "      <td>VIBRA</td>\n",
       "    </tr>\n",
       "    <tr>\n",
       "      <th>4</th>\n",
       "      <td>N</td>\n",
       "      <td>AC</td>\n",
       "      <td>RIO BRANCO</td>\n",
       "      <td>CODEPE COMBUSTIVEIS LTDA</td>\n",
       "      <td>08.220.930/0001-62</td>\n",
       "      <td>RODOVIA BR-364 (RIO BRANCO-CRUZEIRO DO SUL) - ...</td>\n",
       "      <td>2755</td>\n",
       "      <td>LOTE  01/02/03/04/05 E 33</td>\n",
       "      <td>PORTAL DA AMAZONIA</td>\n",
       "      <td>69915-630</td>\n",
       "      <td>ETANOL</td>\n",
       "      <td>01/07/2024</td>\n",
       "      <td>4,69</td>\n",
       "      <td>NaN</td>\n",
       "      <td>R$ / litro</td>\n",
       "      <td>VIBRA</td>\n",
       "    </tr>\n",
       "  </tbody>\n",
       "</table>\n",
       "</div>"
      ],
      "text/plain": [
       "  Regiao - Sigla Estado - Sigla   Municipio                   Revenda  \\\n",
       "0              N             AC  RIO BRANCO  CODEPE COMBUSTIVEIS LTDA   \n",
       "1              N             AC  RIO BRANCO  CODEPE COMBUSTIVEIS LTDA   \n",
       "2              N             AC  RIO BRANCO  CODEPE COMBUSTIVEIS LTDA   \n",
       "3              N             AC  RIO BRANCO  CODEPE COMBUSTIVEIS LTDA   \n",
       "4              N             AC  RIO BRANCO  CODEPE COMBUSTIVEIS LTDA   \n",
       "\n",
       "       CNPJ da Revenda                                        Nome da Rua  \\\n",
       "0   08.220.930/0001-62  RODOVIA BR-364 (RIO BRANCO-CRUZEIRO DO SUL) - ...   \n",
       "1   08.220.930/0001-62  RODOVIA BR-364 (RIO BRANCO-CRUZEIRO DO SUL) - ...   \n",
       "2   08.220.930/0001-62  RODOVIA BR-364 (RIO BRANCO-CRUZEIRO DO SUL) - ...   \n",
       "3   08.220.930/0001-62  RODOVIA BR-364 (RIO BRANCO-CRUZEIRO DO SUL) - ...   \n",
       "4   08.220.930/0001-62  RODOVIA BR-364 (RIO BRANCO-CRUZEIRO DO SUL) - ...   \n",
       "\n",
       "  Numero Rua                Complemento              Bairro        Cep  \\\n",
       "0       2755  LOTE  01/02/03/04/05 E 33  PORTAL DA AMAZONIA  69915-630   \n",
       "1       2755  LOTE  01/02/03/04/05 E 33  PORTAL DA AMAZONIA  69915-630   \n",
       "2       2755  LOTE  01/02/03/04/05 E 33  PORTAL DA AMAZONIA  69915-630   \n",
       "3       2755  LOTE  01/02/03/04/05 E 33  PORTAL DA AMAZONIA  69915-630   \n",
       "4       2755  LOTE  01/02/03/04/05 E 33  PORTAL DA AMAZONIA  69915-630   \n",
       "\n",
       "              Produto Data da Coleta Valor de Venda  Valor de Compra  \\\n",
       "0            GASOLINA     01/07/2024           6,79              NaN   \n",
       "1  GASOLINA ADITIVADA     01/07/2024           6,84              NaN   \n",
       "2              DIESEL     01/07/2024           6,99              NaN   \n",
       "3          DIESEL S10     01/07/2024           6,99              NaN   \n",
       "4              ETANOL     01/07/2024           4,69              NaN   \n",
       "\n",
       "  Unidade de Medida Bandeira  \n",
       "0        R$ / litro    VIBRA  \n",
       "1        R$ / litro    VIBRA  \n",
       "2        R$ / litro    VIBRA  \n",
       "3        R$ / litro    VIBRA  \n",
       "4        R$ / litro    VIBRA  "
      ]
     },
     "execution_count": 8,
     "metadata": {},
     "output_type": "execute_result"
    }
   ],
   "source": [
    "dados.head(5)"
   ]
  },
  {
   "cell_type": "markdown",
   "metadata": {},
   "source": [
    "**Número de linhas e colunas:**"
   ]
  },
  {
   "cell_type": "code",
   "execution_count": 17,
   "metadata": {},
   "outputs": [
    {
     "name": "stdout",
     "output_type": "stream",
     "text": [
      "421382 linhas.\n",
      "16 colunas.\n"
     ]
    }
   ],
   "source": [
    "print(f'{dados.shape[0]} linhas.')\n",
    "print(f'{dados.shape[1]} colunas.')"
   ]
  },
  {
   "cell_type": "markdown",
   "metadata": {},
   "source": [
    "**Quantidade de regiões do país, estados e municípios:**"
   ]
  },
  {
   "cell_type": "code",
   "execution_count": 51,
   "metadata": {},
   "outputs": [
    {
     "name": "stdout",
     "output_type": "stream",
     "text": [
      "5 regiões.\n",
      "27 estados.\n",
      "359 municipios.\n"
     ]
    }
   ],
   "source": [
    "regioes = dados['Regiao - Sigla'].drop_duplicates().to_list()\n",
    "estados = dados['Estado - Sigla'].drop_duplicates().to_list()\n",
    "municipios = dados['Municipio'].drop_duplicates().to_list()\n",
    "print(f\"{len(regioes)} regiões.\")\n",
    "print(f\"{len(estados)} estados.\")\n",
    "print(f\"{len(municipios)} municipios.\")"
   ]
  },
  {
   "cell_type": "markdown",
   "metadata": {},
   "source": [
    "**Quantidade de revendas, peodutos e unidades de medida:**"
   ]
  },
  {
   "cell_type": "code",
   "execution_count": 56,
   "metadata": {},
   "outputs": [
    {
     "name": "stdout",
     "output_type": "stream",
     "text": [
      "7466 revendas.\n",
      "6 produtos.\n",
      "2 unidades de medida.\n"
     ]
    }
   ],
   "source": [
    "revendas = dados['Revenda'].drop_duplicates().to_list()\n",
    "produtos = dados['Produto'].drop_duplicates().to_list()\n",
    "unidades = dados['Unidade de Medida'].drop_duplicates().to_list()\n",
    "print(f\"{len(revendas)} revendas.\")\n",
    "print(f\"{len(produtos)} produtos.\")\n",
    "print(f\"{len(unidades)} unidades de medida.\")"
   ]
  },
  {
   "cell_type": "markdown",
   "metadata": {},
   "source": [
    "**Tipos de produtos e unidades de medida:**"
   ]
  },
  {
   "cell_type": "code",
   "execution_count": 55,
   "metadata": {},
   "outputs": [
    {
     "name": "stdout",
     "output_type": "stream",
     "text": [
      "Produtos:  ['GASOLINA', 'GASOLINA ADITIVADA', 'DIESEL', 'DIESEL S10', 'ETANOL', 'GNV']\n",
      "Unidades de medida:  ['R$ / litro', 'R$ / m³']\n"
     ]
    }
   ],
   "source": [
    "print('Produtos: ', produtos)\n",
    "print('Unidades de medida: ', unidades)"
   ]
  },
  {
   "cell_type": "markdown",
   "metadata": {},
   "source": [
    "# Ajustando os tipos de dados da tabela"
   ]
  },
  {
   "cell_type": "markdown",
   "metadata": {},
   "source": [
    "**Coluna 'Valor de Venda':**\n",
    "\n",
    "Alterando o separador decimal de vírgula para ponto e alterando o tipo de dado da coluna para numérico. "
   ]
  },
  {
   "cell_type": "code",
   "execution_count": 64,
   "metadata": {},
   "outputs": [],
   "source": [
    "dados['Valor de Venda'] = dados['Valor de Venda'].str.replace(',','.').astype(float)"
   ]
  },
  {
   "cell_type": "markdown",
   "metadata": {},
   "source": [
    "**Coluna 'Data da Coleta':**\n",
    "\n",
    "Alterando o tipo para data:"
   ]
  },
  {
   "cell_type": "code",
   "execution_count": 85,
   "metadata": {},
   "outputs": [],
   "source": [
    "dados['Data da Coleta'] = pd.to_datetime(dados['Data da Coleta'], dayfirst=True)"
   ]
  },
  {
   "cell_type": "markdown",
   "metadata": {},
   "source": [
    "**Coluna 'Unidade de Medida':**\n",
    "\n",
    "Removendo os espaços internos:"
   ]
  },
  {
   "cell_type": "code",
   "execution_count": 87,
   "metadata": {},
   "outputs": [],
   "source": [
    "dados['Unidade de Medida'] = dados['Unidade de Medida'].str.replace(' ', '')"
   ]
  },
  {
   "cell_type": "markdown",
   "metadata": {},
   "source": [
    "## Aplicando o método *describe* do Pandas:"
   ]
  },
  {
   "cell_type": "markdown",
   "metadata": {},
   "source": [
    "Colunas de tipo não numérico:"
   ]
  },
  {
   "cell_type": "code",
   "execution_count": 89,
   "metadata": {},
   "outputs": [
    {
     "data": {
      "text/html": [
       "<div>\n",
       "<style scoped>\n",
       "    .dataframe tbody tr th:only-of-type {\n",
       "        vertical-align: middle;\n",
       "    }\n",
       "\n",
       "    .dataframe tbody tr th {\n",
       "        vertical-align: top;\n",
       "    }\n",
       "\n",
       "    .dataframe thead th {\n",
       "        text-align: right;\n",
       "    }\n",
       "</style>\n",
       "<table border=\"1\" class=\"dataframe\">\n",
       "  <thead>\n",
       "    <tr style=\"text-align: right;\">\n",
       "      <th></th>\n",
       "      <th>Regiao - Sigla</th>\n",
       "      <th>Estado - Sigla</th>\n",
       "      <th>Municipio</th>\n",
       "      <th>Revenda</th>\n",
       "      <th>CNPJ da Revenda</th>\n",
       "      <th>Cep</th>\n",
       "      <th>Produto</th>\n",
       "      <th>Unidade de Medida</th>\n",
       "      <th>Bandeira</th>\n",
       "    </tr>\n",
       "  </thead>\n",
       "  <tbody>\n",
       "    <tr>\n",
       "      <th>count</th>\n",
       "      <td>421382</td>\n",
       "      <td>421382</td>\n",
       "      <td>421382</td>\n",
       "      <td>421382</td>\n",
       "      <td>421382</td>\n",
       "      <td>421382</td>\n",
       "      <td>421382</td>\n",
       "      <td>421382</td>\n",
       "      <td>421382</td>\n",
       "    </tr>\n",
       "    <tr>\n",
       "      <th>unique</th>\n",
       "      <td>5</td>\n",
       "      <td>27</td>\n",
       "      <td>359</td>\n",
       "      <td>7466</td>\n",
       "      <td>8520</td>\n",
       "      <td>6630</td>\n",
       "      <td>6</td>\n",
       "      <td>2</td>\n",
       "      <td>45</td>\n",
       "    </tr>\n",
       "    <tr>\n",
       "      <th>top</th>\n",
       "      <td>SE</td>\n",
       "      <td>SP</td>\n",
       "      <td>SAO PAULO</td>\n",
       "      <td>SIM REDE DE POSTOS LTDA</td>\n",
       "      <td>03.552.843/0001-99</td>\n",
       "      <td>65760-000</td>\n",
       "      <td>GASOLINA</td>\n",
       "      <td>R$/litro</td>\n",
       "      <td>BRANCA</td>\n",
       "    </tr>\n",
       "    <tr>\n",
       "      <th>freq</th>\n",
       "      <td>206218</td>\n",
       "      <td>118310</td>\n",
       "      <td>20956</td>\n",
       "      <td>4438</td>\n",
       "      <td>162</td>\n",
       "      <td>1422</td>\n",
       "      <td>110495</td>\n",
       "      <td>411931</td>\n",
       "      <td>149552</td>\n",
       "    </tr>\n",
       "  </tbody>\n",
       "</table>\n",
       "</div>"
      ],
      "text/plain": [
       "       Regiao - Sigla Estado - Sigla  Municipio                  Revenda  \\\n",
       "count          421382         421382     421382                   421382   \n",
       "unique              5             27        359                     7466   \n",
       "top                SE             SP  SAO PAULO  SIM REDE DE POSTOS LTDA   \n",
       "freq           206218         118310      20956                     4438   \n",
       "\n",
       "            CNPJ da Revenda        Cep   Produto Unidade de Medida Bandeira  \n",
       "count                421382     421382    421382            421382   421382  \n",
       "unique                 8520       6630         6                 2       45  \n",
       "top      03.552.843/0001-99  65760-000  GASOLINA          R$/litro   BRANCA  \n",
       "freq                    162       1422    110495            411931   149552  "
      ]
     },
     "execution_count": 89,
     "metadata": {},
     "output_type": "execute_result"
    }
   ],
   "source": [
    "colunas_nnum = dados.columns.drop([\n",
    "    'Nome da Rua','Numero Rua','Complemento','Bairro','Data da Coleta','Valor de Venda','Valor de Compra'])\n",
    "dados[colunas_nnum].describe(include='all')"
   ]
  },
  {
   "cell_type": "markdown",
   "metadata": {},
   "source": [
    "Sobre o retorno do método *describe*:\n",
    "\n",
    "Conforme a [documentação](https://pandas.pydata.org/docs/reference/api/pandas.Series.describe.html), para dados não numéricos:\n",
    "- *count* corresponde à contagem de linhas não nulas;\n",
    "- *unique* corresponde à contagem de valores únicos, sem repetição;\n",
    "- *top* corresponde ao valor que mais se repete;\n",
    "- *freq* corresponde à frequência do valor que mais se repete.\n",
    "\n",
    "Apesar da coleta de dados incluir as 5 regiões do país, pode-se observar que a quantidade de dados da região sudeste, cuja frequência é 206.218, corresponde quase à metade do total de 421.382 coletas."
   ]
  },
  {
   "cell_type": "markdown",
   "metadata": {},
   "source": [
    "Colunas de tipo numérico:"
   ]
  },
  {
   "cell_type": "code",
   "execution_count": 91,
   "metadata": {},
   "outputs": [
    {
     "data": {
      "text/html": [
       "<div>\n",
       "<style scoped>\n",
       "    .dataframe tbody tr th:only-of-type {\n",
       "        vertical-align: middle;\n",
       "    }\n",
       "\n",
       "    .dataframe tbody tr th {\n",
       "        vertical-align: top;\n",
       "    }\n",
       "\n",
       "    .dataframe thead th {\n",
       "        text-align: right;\n",
       "    }\n",
       "</style>\n",
       "<table border=\"1\" class=\"dataframe\">\n",
       "  <thead>\n",
       "    <tr style=\"text-align: right;\">\n",
       "      <th></th>\n",
       "      <th>Valor de Venda</th>\n",
       "      <th>Valor de Compra</th>\n",
       "    </tr>\n",
       "  </thead>\n",
       "  <tbody>\n",
       "    <tr>\n",
       "      <th>count</th>\n",
       "      <td>421382.000000</td>\n",
       "      <td>0.0</td>\n",
       "    </tr>\n",
       "    <tr>\n",
       "      <th>mean</th>\n",
       "      <td>5.684103</td>\n",
       "      <td>NaN</td>\n",
       "    </tr>\n",
       "    <tr>\n",
       "      <th>std</th>\n",
       "      <td>0.888075</td>\n",
       "      <td>NaN</td>\n",
       "    </tr>\n",
       "    <tr>\n",
       "      <th>min</th>\n",
       "      <td>2.990000</td>\n",
       "      <td>NaN</td>\n",
       "    </tr>\n",
       "    <tr>\n",
       "      <th>25%</th>\n",
       "      <td>5.480000</td>\n",
       "      <td>NaN</td>\n",
       "    </tr>\n",
       "    <tr>\n",
       "      <th>50%</th>\n",
       "      <td>5.970000</td>\n",
       "      <td>NaN</td>\n",
       "    </tr>\n",
       "    <tr>\n",
       "      <th>75%</th>\n",
       "      <td>6.260000</td>\n",
       "      <td>NaN</td>\n",
       "    </tr>\n",
       "    <tr>\n",
       "      <th>max</th>\n",
       "      <td>9.790000</td>\n",
       "      <td>NaN</td>\n",
       "    </tr>\n",
       "  </tbody>\n",
       "</table>\n",
       "</div>"
      ],
      "text/plain": [
       "       Valor de Venda  Valor de Compra\n",
       "count   421382.000000              0.0\n",
       "mean         5.684103              NaN\n",
       "std          0.888075              NaN\n",
       "min          2.990000              NaN\n",
       "25%          5.480000              NaN\n",
       "50%          5.970000              NaN\n",
       "75%          6.260000              NaN\n",
       "max          9.790000              NaN"
      ]
     },
     "execution_count": 91,
     "metadata": {},
     "output_type": "execute_result"
    }
   ],
   "source": [
    "dados[['Valor de Venda','Valor de Compra']].describe()"
   ]
  },
  {
   "cell_type": "markdown",
   "metadata": {},
   "source": [
    "Sobre o retorno do método *describe*:\n",
    "\n",
    "Conforme a [documentação](https://pandas.pydata.org/docs/reference/api/pandas.Series.describe.html), para dados numéricos:\n",
    "- *count* corresponde à contagem de linhas não nulas;\n",
    "- *mean* corresponde à média aritmética simples dos valores da coluna;\n",
    "- *std* corresponde ao desvio padrão dos valores da coluna;\n",
    "- *min* corresponde ao menor valor da coluna;\n",
    "- os percentuais corresponde aos valores que dividem os dados no primeiro (até 25%), segundo (25% a 50%), terceiro (50% a 75%) e quarto (acima de 75%) quartis.\n",
    "- *max* corresponde ao maior valor da coluna."
   ]
  },
  {
   "cell_type": "markdown",
   "metadata": {},
   "source": [
    "Coluna do tipo data:"
   ]
  },
  {
   "cell_type": "code",
   "execution_count": 92,
   "metadata": {},
   "outputs": [
    {
     "data": {
      "text/html": [
       "<div>\n",
       "<style scoped>\n",
       "    .dataframe tbody tr th:only-of-type {\n",
       "        vertical-align: middle;\n",
       "    }\n",
       "\n",
       "    .dataframe tbody tr th {\n",
       "        vertical-align: top;\n",
       "    }\n",
       "\n",
       "    .dataframe thead th {\n",
       "        text-align: right;\n",
       "    }\n",
       "</style>\n",
       "<table border=\"1\" class=\"dataframe\">\n",
       "  <thead>\n",
       "    <tr style=\"text-align: right;\">\n",
       "      <th></th>\n",
       "      <th>Data da Coleta</th>\n",
       "    </tr>\n",
       "  </thead>\n",
       "  <tbody>\n",
       "    <tr>\n",
       "      <th>count</th>\n",
       "      <td>421382</td>\n",
       "    </tr>\n",
       "    <tr>\n",
       "      <th>mean</th>\n",
       "      <td>2024-09-28 22:13:53.315138816</td>\n",
       "    </tr>\n",
       "    <tr>\n",
       "      <th>min</th>\n",
       "      <td>2024-07-01 00:00:00</td>\n",
       "    </tr>\n",
       "    <tr>\n",
       "      <th>25%</th>\n",
       "      <td>2024-08-13 00:00:00</td>\n",
       "    </tr>\n",
       "    <tr>\n",
       "      <th>50%</th>\n",
       "      <td>2024-09-30 00:00:00</td>\n",
       "    </tr>\n",
       "    <tr>\n",
       "      <th>75%</th>\n",
       "      <td>2024-11-13 00:00:00</td>\n",
       "    </tr>\n",
       "    <tr>\n",
       "      <th>max</th>\n",
       "      <td>2024-12-31 00:00:00</td>\n",
       "    </tr>\n",
       "  </tbody>\n",
       "</table>\n",
       "</div>"
      ],
      "text/plain": [
       "                      Data da Coleta\n",
       "count                         421382\n",
       "mean   2024-09-28 22:13:53.315138816\n",
       "min              2024-07-01 00:00:00\n",
       "25%              2024-08-13 00:00:00\n",
       "50%              2024-09-30 00:00:00\n",
       "75%              2024-11-13 00:00:00\n",
       "max              2024-12-31 00:00:00"
      ]
     },
     "execution_count": 92,
     "metadata": {},
     "output_type": "execute_result"
    }
   ],
   "source": [
    "dados[['Data da Coleta']].describe()"
   ]
  }
 ],
 "metadata": {
  "kernelspec": {
   "display_name": ".venv",
   "language": "python",
   "name": "python3"
  },
  "language_info": {
   "codemirror_mode": {
    "name": "ipython",
    "version": 3
   },
   "file_extension": ".py",
   "mimetype": "text/x-python",
   "name": "python",
   "nbconvert_exporter": "python",
   "pygments_lexer": "ipython3",
   "version": "3.8.10"
  }
 },
 "nbformat": 4,
 "nbformat_minor": 2
}
